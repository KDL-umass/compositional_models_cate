{
 "cells": [
  {
   "cell_type": "code",
   "execution_count": 1,
   "metadata": {},
   "outputs": [],
   "source": [
    "import pandas as pd \n",
    "import numpy as np\n"
   ]
  },
  {
   "cell_type": "code",
   "execution_count": 3,
   "metadata": {},
   "outputs": [],
   "source": [
    "X = np.random.rand(10, 5)\n",
    "\n",
    "y1 = X @ np.array([1, 2, 3, 4, 5]) + np.random.normal(0, 0.1, 10)\n",
    "y2 = X @ np.array([5, 4, 3, 2, 1]) + np.random.normal(0, 0.1, 10)"
   ]
  },
  {
   "cell_type": "code",
   "execution_count": 4,
   "metadata": {},
   "outputs": [
    {
     "data": {
      "text/plain": [
       "<matplotlib.collections.PathCollection at 0x15a2a7770>"
      ]
     },
     "execution_count": 4,
     "metadata": {},
     "output_type": "execute_result"
    },
    {
     "data": {
      "image/png": "[encoded data removed]",
      "text/plain": [
       "<Figure size 640x480 with 1 Axes>"
      ]
     },
     "metadata": {},
     "output_type": "display_data"
    }
   ],
   "source": [
    "# plot y1 vs. y2\n",
    "import matplotlib.pyplot as plt\n",
    "plt.scatter(y1, y2)\n",
    "plt.show()\n"
   ]
  },
  {
   "cell_type": "code",
   "execution_count": 3,
   "metadata": {},
   "outputs": [
    {
     "name": "stdout",
     "output_type": "stream",
     "text": [
      "query_id 20_253\n",
      "treatment_id 0\n",
      "num_module_LU 0\n",
      "num_module_QR 0\n",
      "num_module_SVD 0\n",
      "num_module_TR 4\n",
      "num_module_add 4\n",
      "num_module_det 0\n",
      "num_module_dot 4\n",
      "num_module_inv 4\n",
      "num_module_mult 23\n",
      "num_module_norm 1\n",
      "num_module_sub 0\n",
      "num_module_trace 1\n",
      "module_LU_feature_left_child_input_shape 0.0\n",
      "module_LU_feature_left_child_norm 0.0\n",
      "module_LU_feature_right_child_input_shape 0.0\n",
      "module_LU_feature_right_child_norm 0.0\n",
      "module_LU_feature_output_shape 0.0\n",
      "module_LU_feature_output_norm 0.0\n",
      "module_QR_feature_left_child_input_shape 0.0\n",
      "module_QR_feature_left_child_norm 0.0\n",
      "module_QR_feature_right_child_input_shape 0.0\n",
      "module_QR_feature_right_child_norm 0.0\n",
      "module_QR_feature_output_shape 0.0\n",
      "module_QR_feature_output_norm 0.0\n",
      "module_SVD_feature_left_child_input_shape 0.0\n",
      "module_SVD_feature_left_child_norm 0.0\n",
      "module_SVD_feature_right_child_input_shape 0.0\n",
      "module_SVD_feature_right_child_norm 0.0\n",
      "module_SVD_feature_output_shape 0.0\n",
      "module_SVD_feature_output_norm 0.0\n",
      "module_TR_feature_left_child_input_shape 64009.0\n",
      "module_TR_feature_left_child_norm 146.1338874012535\n",
      "module_TR_feature_right_child_input_shape nan\n",
      "module_TR_feature_right_child_norm nan\n",
      "module_TR_feature_output_shape 64009.0\n",
      "module_TR_feature_output_norm 146.1338874012535\n",
      "module_add_feature_left_child_input_shape 64009.0\n",
      "module_add_feature_left_child_norm 146.1666144149998\n",
      "module_add_feature_right_child_input_shape 64009.0\n",
      "module_add_feature_right_child_norm 146.15986587524105\n",
      "module_add_feature_output_shape 64009.0\n",
      "module_add_feature_output_norm 273.4572179908595\n",
      "module_det_feature_left_child_input_shape 0.0\n",
      "module_det_feature_left_child_norm 0.0\n",
      "module_det_feature_right_child_input_shape 0.0\n",
      "module_det_feature_right_child_norm 0.0\n",
      "module_det_feature_output_shape 0.0\n",
      "module_det_feature_output_norm 0.0\n",
      "module_dot_feature_left_child_input_shape 64009.0\n",
      "module_dot_feature_left_child_norm 145.86371008536162\n",
      "module_dot_feature_right_child_input_shape 64009.0\n",
      "module_dot_feature_right_child_norm 146.08439178167512\n",
      "module_dot_feature_output_shape 64009.0\n",
      "module_dot_feature_output_norm 84.17496353708823\n",
      "module_inv_feature_left_child_input_shape 64009.0\n",
      "module_inv_feature_left_child_norm 146.2409764293197\n",
      "module_inv_feature_right_child_input_shape nan\n",
      "module_inv_feature_right_child_norm nan\n",
      "module_inv_feature_output_shape 64009.0\n",
      "module_inv_feature_output_norm 596.3907823058088\n",
      "module_mult_feature_left_child_input_shape 64009.0\n",
      "module_mult_feature_left_child_norm 3.706348265566177e+34\n",
      "module_mult_feature_right_child_input_shape 58443.086956521736\n",
      "module_mult_feature_right_child_norm 2304.3516057317647\n",
      "module_mult_feature_output_shape 64009.0\n",
      "module_mult_feature_output_norm 1.465946095895846e+35\n",
      "module_norm_feature_left_child_input_shape 64009.0\n",
      "module_norm_feature_left_child_norm 146.05741174797453\n",
      "module_norm_feature_right_child_input_shape nan\n",
      "module_norm_feature_right_child_norm nan\n",
      "module_norm_feature_output_shape 1.0\n",
      "module_norm_feature_output_norm 146.05741174797453\n",
      "module_sub_feature_left_child_input_shape 0.0\n",
      "module_sub_feature_left_child_norm 0.0\n",
      "module_sub_feature_right_child_input_shape 0.0\n",
      "module_sub_feature_right_child_norm 0.0\n",
      "module_sub_feature_output_shape 0.0\n",
      "module_sub_feature_output_norm 0.0\n",
      "module_trace_feature_left_child_input_shape 64009.0\n",
      "module_trace_feature_left_child_norm 16069.632591010844\n",
      "module_trace_feature_right_child_input_shape nan\n",
      "module_trace_feature_right_child_norm nan\n",
      "module_trace_feature_output_shape 1.0\n",
      "module_trace_feature_output_norm 16070.02460582944\n",
      "module_LU_output 0.0\n",
      "module_QR_output 0.0\n",
      "module_SVD_output 0.0\n",
      "module_TR_output 13316.25\n",
      "module_add_output 180259.5\n",
      "module_det_output 0.0\n",
      "module_dot_output 175345.0\n",
      "module_inv_output 1440230.0\n",
      "module_mult_output 273497.0\n",
      "module_norm_output 148435.0\n",
      "module_sub_output 0.0\n",
      "module_trace_output 23805.0\n",
      "query_output 13699274\n",
      "matrix_size 253\n"
     ]
    }
   ],
   "source": [
    "filepath = \"/Users/ppruthi/research/novelty_accommodation/compositional_models_cate/domains/maths_evaluation/csvs/maths_evaluation_data_high_level_features.csv\"\n",
    "df = pd.read_csv(filepath)\n",
    "\n",
    "# for first row print column name and value\n",
    "def print_first_row(df):\n",
    "    for column in df.columns:\n",
    "        print(column, df[column][0])\n",
    "\n",
    "print_first_row(df)"
   ]
  }
 ],
 "metadata": {
  "kernelspec": {
   "display_name": "comp_models_env",
   "language": "python",
   "name": "python3"
  },
  "language_info": {
   "codemirror_mode": {
    "name": "ipython",
    "version": 3
   },
   "file_extension": ".py",
   "mimetype": "text/x-python",
   "name": "python",
   "nbconvert_exporter": "python",
   "pygments_lexer": "ipython3",
   "version": "3.12.4"
  }
 },
 "nbformat": 4,
 "nbformat_minor": 2
}
